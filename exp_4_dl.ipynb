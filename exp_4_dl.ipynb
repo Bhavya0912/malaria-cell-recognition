{
  "cells": [
    {
      "cell_type": "code",
      "execution_count": null,
      "metadata": {
        "colab": {
          "base_uri": "https://localhost:8080/"
        },
        "id": "7sN_6Kv-vjDU",
        "outputId": "82ac56f5-6323-4ba4-c2bf-8bb3dd85dc33"
      },
      "outputs": [
        {
          "name": "stdout",
          "output_type": "stream",
          "text": [
            "Cloning into 'cellimage'...\n",
            "remote: Enumerating objects: 27568, done.\u001b[K\n",
            "remote: Total 27568 (delta 0), reused 0 (delta 0), pack-reused 27568\u001b[K\n",
            "Receiving objects: 100% (27568/27568), 317.67 MiB | 45.37 MiB/s, done.\n",
            "Checking out files: 100% (27559/27559), done.\n"
          ]
        }
      ],
      "source": [
        "!git clone https://github.com/sherwin-roger/cellimage.git"
      ]
    },
    {
      "cell_type": "code",
      "execution_count": null,
      "metadata": {
        "id": "MBBVgbC3vo48"
      },
      "outputs": [],
      "source": [
        "\n",
        "import tensorflow as tf\n",
        "import pandas as pd\n",
        "from sklearn.metrics import classification_report,confusion_matrix"
      ]
    },
    {
      "cell_type": "code",
      "execution_count": null,
      "metadata": {
        "id": "sEsEG7pVwC9L"
      },
      "outputs": [],
      "source": [
        "trainDatagen=tf.keras.preprocessing.image.ImageDataGenerator(rescale = 1./255)\n",
        "testDatagen=tf.keras.preprocessing.image.ImageDataGenerator(rescale = 1./255)"
      ]
    },
    {
      "cell_type": "code",
      "execution_count": null,
      "metadata": {
        "colab": {
          "background_save": true,
          "base_uri": "https://localhost:8080/"
        },
        "id": "w8cyoiv9wH7s",
        "outputId": "7bc35211-426b-4e55-b33c-82131dc6b1a5"
      },
      "outputs": [
        {
          "name": "stdout",
          "output_type": "stream",
          "text": [
            "Found 24958 images belonging to 2 classes.\n",
            "Found 2600 images belonging to 2 classes.\n"
          ]
        }
      ],
      "source": [
        "train=trainDatagen.flow_from_directory(\"cellimage/cell_images/train\",class_mode = 'binary',target_size=(150,150))\n",
        "test=trainDatagen.flow_from_directory(\"cellimage/cell_images/test\",class_mode = 'binary',target_size=(150,150))"
      ]
    },
    {
      "cell_type": "code",
      "execution_count": null,
      "metadata": {
        "id": "6aVBeTotwKN2"
      },
      "outputs": [],
      "source": [
        "model=tf.keras.Sequential([\n",
        "    tf.keras.layers.Conv2D(130,3,activation=\"relu\",padding=\"same\"),\n",
        "    tf.keras.layers.Conv2D(130,3,activation=\"relu\"),\n",
        "    tf.keras.layers.MaxPool2D((2,2)),\n",
        "    tf.keras.layers.Conv2D(32,3,activation=\"relu\"),\n",
        "    tf.keras.layers.Conv2D(32,3,activation=\"relu\"),\n",
        "    tf.keras.layers.MaxPool2D((2,2)),\n",
        "    tf.keras.layers.Conv2D(64,3,activation=\"relu\"),\n",
        "    tf.keras.layers.Conv2D(64,3,activation=\"relu\"),\n",
        "    tf.keras.layers.MaxPool2D((2,2)),\n",
        "    tf.keras.layers.Flatten(),\n",
        "    tf.keras.layers.Dense(1,activation=\"sigmoid\")\n",
        "])"
      ]
    },
    {
      "cell_type": "code",
      "execution_count": null,
      "metadata": {
        "id": "8Mm_fE9CwpJ3"
      },
      "outputs": [],
      "source": [
        "model.compile(loss=\"binary_crossentropy\",optimizer=\"adam\",metrics=\"accuracy\")"
      ]
    },
    {
      "cell_type": "code",
      "execution_count": null,
      "metadata": {
        "colab": {
          "background_save": true,
          "base_uri": "https://localhost:8080/"
        },
        "id": "PSeB4UVvwrOd",
        "outputId": "00412116-aae8-4615-fa6a-e471ad14c2d8"
      },
      "outputs": [
        {
          "name": "stdout",
          "output_type": "stream",
          "text": [
            "Epoch 1/5\n",
            "215/780 [=======>......................] - ETA: 2:37:06 - loss: 0.7247 - accuracy: 0.5324"
          ]
        }
      ],
      "source": [
        "model.fit(train,epochs=5,validation_data=test)"
      ]
    },
    {
      "cell_type": "code",
      "execution_count": null,
      "metadata": {
        "colab": {
          "base_uri": "https://localhost:8080/",
          "height": 282
        },
        "id": "FwNJ3I4GwtCB",
        "outputId": "698bab71-f9bb-46c9-fabe-b7a301e1d4c9"
      },
      "outputs": [
        {
          "data": {
            "text/plain": [
              "<matplotlib.axes._subplots.AxesSubplot at 0x7fe52ee7ef50>"
            ]
          },
          "execution_count": 10,
          "metadata": {},
          "output_type": "execute_result"
        },
        {
          "data": {
            "image/png": "[encoded data removed]",
            "text/plain": [
              "<Figure size 432x288 with 1 Axes>"
            ]
          },
          "metadata": {},
          "output_type": "display_data"
        }
      ],
      "source": [
        "pd.DataFrame(model.history.history).plot()"
      ]
    },
    {
      "cell_type": "code",
      "execution_count": null,
      "metadata": {
        "id": "OvR0r_wF_km8"
      },
      "outputs": [],
      "source": [
        "import numpy as np"
      ]
    },
    {
      "cell_type": "code",
      "execution_count": null,
      "metadata": {
        "id": "1TbbSfkI_wEs"
      },
      "outputs": [],
      "source": [
        "test_predictions = np.argmax(model.predict(test), axis=1)"
      ]
    },
    {
      "cell_type": "code",
      "execution_count": null,
      "metadata": {
        "colab": {
          "base_uri": "https://localhost:8080/"
        },
        "id": "OVhZq1vv_xxu",
        "outputId": "033f29ea-66d0-4b14-823d-224986136c19"
      },
      "outputs": [
        {
          "data": {
            "text/plain": [
              "array([[1300,    0],\n",
              "       [1300,    0]])"
            ]
          },
          "execution_count": 13,
          "metadata": {},
          "output_type": "execute_result"
        }
      ],
      "source": [
        "confusion_matrix(test.classes,test_predictions)"
      ]
    },
    {
      "cell_type": "code",
      "execution_count": null,
      "metadata": {
        "colab": {
          "base_uri": "https://localhost:8080/"
        },
        "id": "FE9j2Dyt_5Ih",
        "outputId": "81879c3e-a87f-45a0-9d0b-e23b688de65e"
      },
      "outputs": [
        {
          "name": "stdout",
          "output_type": "stream",
          "text": [
            "              precision    recall  f1-score   support\n",
            "\n",
            "           0       0.50      1.00      0.67      1300\n",
            "           1       0.00      0.00      0.00      1300\n",
            "\n",
            "    accuracy                           0.50      2600\n",
            "   macro avg       0.25      0.50      0.33      2600\n",
            "weighted avg       0.25      0.50      0.33      2600\n",
            "\n"
          ]
        },
        {
          "name": "stderr",
          "output_type": "stream",
          "text": [
            "/usr/local/lib/python3.7/dist-packages/sklearn/metrics/_classification.py:1318: UndefinedMetricWarning: Precision and F-score are ill-defined and being set to 0.0 in labels with no predicted samples. Use `zero_division` parameter to control this behavior.\n",
            "  _warn_prf(average, modifier, msg_start, len(result))\n",
            "/usr/local/lib/python3.7/dist-packages/sklearn/metrics/_classification.py:1318: UndefinedMetricWarning: Precision and F-score are ill-defined and being set to 0.0 in labels with no predicted samples. Use `zero_division` parameter to control this behavior.\n",
            "  _warn_prf(average, modifier, msg_start, len(result))\n",
            "/usr/local/lib/python3.7/dist-packages/sklearn/metrics/_classification.py:1318: UndefinedMetricWarning: Precision and F-score are ill-defined and being set to 0.0 in labels with no predicted samples. Use `zero_division` parameter to control this behavior.\n",
            "  _warn_prf(average, modifier, msg_start, len(result))\n"
          ]
        }
      ],
      "source": [
        "print(classification_report(test.classes,test_predictions))"
      ]
    },
    {
      "cell_type": "code",
      "execution_count": null,
      "metadata": {
        "id": "KmxkpzZz_62q"
      },
      "outputs": [],
      "source": [
        "import numpy as np"
      ]
    },
    {
      "cell_type": "code",
      "execution_count": null,
      "metadata": {
        "id": "zInIim4-_8uk"
      },
      "outputs": [],
      "source": [
        "img = tf.keras.preprocessing.image.load_img(\"cellimage/cell_images/test/uninfected/C100P61ThinF_IMG_20150918_144104_cell_34.png\")\n",
        "img_tensor = tf.convert_to_tensor(np.asarray(img))\n",
        "img_28 = tf.image.resize(img_tensor,(150,150))\n",
        "img_28 = img_28/255.0\n",
        "img_28=tf.expand_dims(img_28, axis=0)"
      ]
    },
    {
      "cell_type": "code",
      "execution_count": null,
      "metadata": {
        "colab": {
          "base_uri": "https://localhost:8080/"
        },
        "id": "P4RDEDQG_-sn",
        "outputId": "917c4f90-ae3d-410e-cd6b-ef266742d83b"
      },
      "outputs": [
        {
          "name": "stdout",
          "output_type": "stream",
          "text": [
            "uninfected\n"
          ]
        }
      ],
      "source": [
        "if tf.cast(tf.round(model.predict(img_28))[0][0],tf.int32).numpy()==1:\n",
        "  print(\"uninfected\")\n",
        "else:\n",
        "  print(\"parasitized\")"
      ]
    },
    {
      "cell_type": "code",
      "execution_count": null,
      "metadata": {
        "id": "h5T7_t7ZAA6C"
      },
      "outputs": [],
      "source": []
    }
  ],
  "metadata": {
    "colab": {
      "provenance": []
    },
    "kernelspec": {
      "display_name": "Python 3",
      "name": "python3"
    },
    "language_info": {
      "name": "python"
    }
  },
  "nbformat": 4,
  "nbformat_minor": 0
}